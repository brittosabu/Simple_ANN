{
 "cells": [
  {
   "cell_type": "code",
   "execution_count": 1,
   "metadata": {},
   "outputs": [
    {
     "name": "stderr",
     "output_type": "stream",
     "text": [
      "Using TensorFlow backend.\n"
     ]
    }
   ],
   "source": [
    "import numpy as np \n",
    "import pandas as pd\n",
    "from keras.utils import to_categorical #to transform target variable into categories\n",
    "from keras.models import Sequential # the model of the Neural Net\n",
    "from keras.layers import Dense #Layer for the neural net"
   ]
  },
  {
   "cell_type": "code",
   "execution_count": 3,
   "metadata": {},
   "outputs": [],
   "source": [
    "data = pd.read_csv('SN.csv') #reading the data"
   ]
  },
  {
   "cell_type": "code",
   "execution_count": 4,
   "metadata": {},
   "outputs": [
    {
     "data": {
      "text/html": [
       "<div>\n",
       "<style scoped>\n",
       "    .dataframe tbody tr th:only-of-type {\n",
       "        vertical-align: middle;\n",
       "    }\n",
       "\n",
       "    .dataframe tbody tr th {\n",
       "        vertical-align: top;\n",
       "    }\n",
       "\n",
       "    .dataframe thead th {\n",
       "        text-align: right;\n",
       "    }\n",
       "</style>\n",
       "<table border=\"1\" class=\"dataframe\">\n",
       "  <thead>\n",
       "    <tr style=\"text-align: right;\">\n",
       "      <th></th>\n",
       "      <th>User ID</th>\n",
       "      <th>Gender</th>\n",
       "      <th>Age</th>\n",
       "      <th>EstimatedSalary</th>\n",
       "      <th>Purchased</th>\n",
       "    </tr>\n",
       "  </thead>\n",
       "  <tbody>\n",
       "    <tr>\n",
       "      <th>0</th>\n",
       "      <td>15624510</td>\n",
       "      <td>Male</td>\n",
       "      <td>19</td>\n",
       "      <td>19000</td>\n",
       "      <td>0</td>\n",
       "    </tr>\n",
       "    <tr>\n",
       "      <th>1</th>\n",
       "      <td>15810944</td>\n",
       "      <td>Male</td>\n",
       "      <td>35</td>\n",
       "      <td>20000</td>\n",
       "      <td>0</td>\n",
       "    </tr>\n",
       "    <tr>\n",
       "      <th>2</th>\n",
       "      <td>15668575</td>\n",
       "      <td>Female</td>\n",
       "      <td>26</td>\n",
       "      <td>43000</td>\n",
       "      <td>0</td>\n",
       "    </tr>\n",
       "    <tr>\n",
       "      <th>3</th>\n",
       "      <td>15603246</td>\n",
       "      <td>Female</td>\n",
       "      <td>27</td>\n",
       "      <td>57000</td>\n",
       "      <td>0</td>\n",
       "    </tr>\n",
       "    <tr>\n",
       "      <th>4</th>\n",
       "      <td>15804002</td>\n",
       "      <td>Male</td>\n",
       "      <td>19</td>\n",
       "      <td>76000</td>\n",
       "      <td>0</td>\n",
       "    </tr>\n",
       "  </tbody>\n",
       "</table>\n",
       "</div>"
      ],
      "text/plain": [
       "    User ID  Gender  Age  EstimatedSalary  Purchased\n",
       "0  15624510    Male   19            19000          0\n",
       "1  15810944    Male   35            20000          0\n",
       "2  15668575  Female   26            43000          0\n",
       "3  15603246  Female   27            57000          0\n",
       "4  15804002    Male   19            76000          0"
      ]
     },
     "execution_count": 4,
     "metadata": {},
     "output_type": "execute_result"
    }
   ],
   "source": [
    "data.head(5) #basic EDA of the data"
   ]
  },
  {
   "cell_type": "code",
   "execution_count": 5,
   "metadata": {
    "scrolled": false
   },
   "outputs": [
    {
     "name": "stdout",
     "output_type": "stream",
     "text": [
      "<class 'pandas.core.frame.DataFrame'>\n",
      "RangeIndex: 400 entries, 0 to 399\n",
      "Data columns (total 5 columns):\n",
      "User ID            400 non-null int64\n",
      "Gender             400 non-null object\n",
      "Age                400 non-null int64\n",
      "EstimatedSalary    400 non-null int64\n",
      "Purchased          400 non-null int64\n",
      "dtypes: int64(4), object(1)\n",
      "memory usage: 15.7+ KB\n"
     ]
    }
   ],
   "source": [
    "data.info()"
   ]
  },
  {
   "cell_type": "code",
   "execution_count": 6,
   "metadata": {},
   "outputs": [],
   "source": [
    "target=to_categorical(data['Purchased']) #Creating the target variable"
   ]
  },
  {
   "cell_type": "code",
   "execution_count": 10,
   "metadata": {},
   "outputs": [],
   "source": [
    "data.drop(['User ID','Purchased','Gender'],axis=1,inplace=True) #Removing the  unnecessary columns"
   ]
  },
  {
   "cell_type": "code",
   "execution_count": 12,
   "metadata": {},
   "outputs": [],
   "source": [
    "data = data.apply(lambda x: (x - np.min(x)) / (np.max(x) - np.min(x))) #Normalizing the data"
   ]
  },
  {
   "cell_type": "code",
   "execution_count": 13,
   "metadata": {},
   "outputs": [],
   "source": [
    "n_cols=data.shape[1] #defining the shape"
   ]
  },
  {
   "cell_type": "code",
   "execution_count": 14,
   "metadata": {},
   "outputs": [
    {
     "data": {
      "text/plain": [
       "2"
      ]
     },
     "execution_count": 14,
     "metadata": {},
     "output_type": "execute_result"
    }
   ],
   "source": [
    "n_cols"
   ]
  },
  {
   "cell_type": "code",
   "execution_count": 15,
   "metadata": {},
   "outputs": [],
   "source": [
    "model = Sequential() #Defining the Model"
   ]
  },
  {
   "cell_type": "code",
   "execution_count": 16,
   "metadata": {},
   "outputs": [
    {
     "name": "stdout",
     "output_type": "stream",
     "text": [
      "WARNING:tensorflow:From /home/britto/myenv/lib/python3.6/site-packages/tensorflow/python/framework/op_def_library.py:263: colocate_with (from tensorflow.python.framework.ops) is deprecated and will be removed in a future version.\n",
      "Instructions for updating:\n",
      "Colocations handled automatically by placer.\n"
     ]
    }
   ],
   "source": [
    "model.add(Dense(100,activation='relu',input_shape=(n_cols,))) #First hidden layer\n",
    "model.add(Dense(100,activation='relu')) #Second layer \n",
    "model.add(Dense(2,activation='softmax')) #Output layer"
   ]
  },
  {
   "cell_type": "code",
   "execution_count": 18,
   "metadata": {},
   "outputs": [
    {
     "name": "stdout",
     "output_type": "stream",
     "text": [
      "_________________________________________________________________\n",
      "Layer (type)                 Output Shape              Param #   \n",
      "=================================================================\n",
      "dense_1 (Dense)              (None, 100)               300       \n",
      "_________________________________________________________________\n",
      "dense_2 (Dense)              (None, 100)               10100     \n",
      "_________________________________________________________________\n",
      "dense_3 (Dense)              (None, 2)                 202       \n",
      "=================================================================\n",
      "Total params: 10,602\n",
      "Trainable params: 10,602\n",
      "Non-trainable params: 0\n",
      "_________________________________________________________________\n"
     ]
    }
   ],
   "source": [
    "model.summary() #Summary of the model"
   ]
  },
  {
   "cell_type": "code",
   "execution_count": 19,
   "metadata": {},
   "outputs": [],
   "source": [
    "model.compile(optimizer='adam',loss='categorical_crossentropy',metrics=['accuracy']) #Compiling the model"
   ]
  },
  {
   "cell_type": "code",
   "execution_count": 20,
   "metadata": {},
   "outputs": [
    {
     "name": "stdout",
     "output_type": "stream",
     "text": [
      "WARNING:tensorflow:From /home/britto/myenv/lib/python3.6/site-packages/tensorflow/python/ops/math_ops.py:3066: to_int32 (from tensorflow.python.ops.math_ops) is deprecated and will be removed in a future version.\n",
      "Instructions for updating:\n",
      "Use tf.cast instead.\n",
      "Train on 320 samples, validate on 80 samples\n",
      "Epoch 1/50\n",
      "320/320 [==============================] - 1s 5ms/step - loss: 0.6848 - acc: 0.7125 - val_loss: 0.7781 - val_acc: 0.3625\n",
      "Epoch 2/50\n",
      "320/320 [==============================] - 0s 29us/step - loss: 0.6600 - acc: 0.7125 - val_loss: 0.7671 - val_acc: 0.3625\n",
      "Epoch 3/50\n",
      "320/320 [==============================] - 0s 33us/step - loss: 0.6405 - acc: 0.7125 - val_loss: 0.7523 - val_acc: 0.3625\n",
      "Epoch 4/50\n",
      "320/320 [==============================] - 0s 32us/step - loss: 0.6148 - acc: 0.7125 - val_loss: 0.7350 - val_acc: 0.3625\n",
      "Epoch 5/50\n",
      "320/320 [==============================] - 0s 44us/step - loss: 0.5820 - acc: 0.7125 - val_loss: 0.7055 - val_acc: 0.3625\n",
      "Epoch 6/50\n",
      "320/320 [==============================] - 0s 45us/step - loss: 0.5363 - acc: 0.7500 - val_loss: 0.6358 - val_acc: 0.6250\n",
      "Epoch 7/50\n",
      "320/320 [==============================] - 0s 33us/step - loss: 0.4839 - acc: 0.8156 - val_loss: 0.5904 - val_acc: 0.6875\n",
      "Epoch 8/50\n",
      "320/320 [==============================] - 0s 39us/step - loss: 0.4316 - acc: 0.8031 - val_loss: 0.5305 - val_acc: 0.7125\n",
      "Epoch 9/50\n",
      "320/320 [==============================] - 0s 30us/step - loss: 0.3881 - acc: 0.8562 - val_loss: 0.4680 - val_acc: 0.8000\n",
      "Epoch 10/50\n",
      "320/320 [==============================] - 0s 34us/step - loss: 0.3638 - acc: 0.8281 - val_loss: 0.4356 - val_acc: 0.8125\n",
      "Epoch 11/50\n",
      "320/320 [==============================] - 0s 42us/step - loss: 0.3324 - acc: 0.8562 - val_loss: 0.4034 - val_acc: 0.8125\n",
      "Epoch 12/50\n",
      "320/320 [==============================] - 0s 42us/step - loss: 0.3131 - acc: 0.8625 - val_loss: 0.4049 - val_acc: 0.8000\n",
      "Epoch 13/50\n",
      "320/320 [==============================] - 0s 44us/step - loss: 0.3016 - acc: 0.8656 - val_loss: 0.3493 - val_acc: 0.8625\n",
      "Epoch 14/50\n",
      "320/320 [==============================] - 0s 43us/step - loss: 0.2967 - acc: 0.8781 - val_loss: 0.3817 - val_acc: 0.8125\n",
      "Epoch 15/50\n",
      "320/320 [==============================] - 0s 38us/step - loss: 0.2895 - acc: 0.8688 - val_loss: 0.3535 - val_acc: 0.8125\n",
      "Epoch 16/50\n",
      "320/320 [==============================] - 0s 36us/step - loss: 0.2944 - acc: 0.8719 - val_loss: 0.3058 - val_acc: 0.9125\n",
      "Epoch 17/50\n",
      "320/320 [==============================] - 0s 38us/step - loss: 0.2876 - acc: 0.8656 - val_loss: 0.3500 - val_acc: 0.8250\n",
      "Epoch 18/50\n",
      "320/320 [==============================] - 0s 30us/step - loss: 0.2751 - acc: 0.8875 - val_loss: 0.2869 - val_acc: 0.9250\n",
      "Epoch 19/50\n",
      "320/320 [==============================] - 0s 36us/step - loss: 0.2712 - acc: 0.8812 - val_loss: 0.3214 - val_acc: 0.8750\n",
      "Epoch 20/50\n",
      "320/320 [==============================] - 0s 44us/step - loss: 0.2735 - acc: 0.8688 - val_loss: 0.2937 - val_acc: 0.8875\n",
      "Epoch 21/50\n",
      "320/320 [==============================] - 0s 37us/step - loss: 0.2656 - acc: 0.8812 - val_loss: 0.2831 - val_acc: 0.8875\n",
      "Epoch 22/50\n",
      "320/320 [==============================] - 0s 40us/step - loss: 0.2634 - acc: 0.8812 - val_loss: 0.2848 - val_acc: 0.8875\n",
      "Epoch 23/50\n",
      "320/320 [==============================] - 0s 40us/step - loss: 0.2619 - acc: 0.8906 - val_loss: 0.2760 - val_acc: 0.9000\n",
      "Epoch 24/50\n",
      "320/320 [==============================] - 0s 32us/step - loss: 0.2664 - acc: 0.8906 - val_loss: 0.2708 - val_acc: 0.9125\n",
      "Epoch 25/50\n",
      "320/320 [==============================] - 0s 41us/step - loss: 0.2616 - acc: 0.8844 - val_loss: 0.3161 - val_acc: 0.8750\n",
      "Epoch 26/50\n",
      "320/320 [==============================] - 0s 36us/step - loss: 0.2590 - acc: 0.9000 - val_loss: 0.2520 - val_acc: 0.9500\n",
      "Epoch 27/50\n",
      "320/320 [==============================] - 0s 52us/step - loss: 0.2544 - acc: 0.8906 - val_loss: 0.2765 - val_acc: 0.9000\n",
      "Epoch 28/50\n",
      "320/320 [==============================] - 0s 45us/step - loss: 0.2535 - acc: 0.8906 - val_loss: 0.2564 - val_acc: 0.9125\n",
      "Epoch 29/50\n",
      "320/320 [==============================] - 0s 37us/step - loss: 0.2535 - acc: 0.8875 - val_loss: 0.2844 - val_acc: 0.8875\n",
      "Epoch 30/50\n",
      "320/320 [==============================] - 0s 44us/step - loss: 0.2502 - acc: 0.9000 - val_loss: 0.2535 - val_acc: 0.9000\n",
      "Epoch 31/50\n",
      "320/320 [==============================] - 0s 36us/step - loss: 0.2507 - acc: 0.8938 - val_loss: 0.2646 - val_acc: 0.9000\n",
      "Epoch 32/50\n",
      "320/320 [==============================] - 0s 43us/step - loss: 0.2488 - acc: 0.8969 - val_loss: 0.2444 - val_acc: 0.9250\n",
      "Epoch 33/50\n",
      "320/320 [==============================] - 0s 49us/step - loss: 0.2480 - acc: 0.8969 - val_loss: 0.2671 - val_acc: 0.9000\n",
      "Epoch 34/50\n",
      "320/320 [==============================] - 0s 48us/step - loss: 0.2498 - acc: 0.8906 - val_loss: 0.2744 - val_acc: 0.9000\n",
      "Epoch 35/50\n",
      "320/320 [==============================] - 0s 52us/step - loss: 0.2463 - acc: 0.9000 - val_loss: 0.2453 - val_acc: 0.9250\n",
      "Epoch 36/50\n",
      "320/320 [==============================] - 0s 42us/step - loss: 0.2503 - acc: 0.9000 - val_loss: 0.2479 - val_acc: 0.9000\n",
      "Epoch 37/50\n",
      "320/320 [==============================] - 0s 59us/step - loss: 0.2488 - acc: 0.8969 - val_loss: 0.2372 - val_acc: 0.9250\n",
      "Epoch 38/50\n",
      "320/320 [==============================] - 0s 65us/step - loss: 0.2441 - acc: 0.8938 - val_loss: 0.2642 - val_acc: 0.9000\n",
      "Epoch 39/50\n",
      "320/320 [==============================] - 0s 39us/step - loss: 0.2432 - acc: 0.9000 - val_loss: 0.2394 - val_acc: 0.9125\n",
      "Epoch 40/50\n",
      "320/320 [==============================] - 0s 44us/step - loss: 0.2469 - acc: 0.8969 - val_loss: 0.2305 - val_acc: 0.9625\n",
      "Epoch 41/50\n",
      "320/320 [==============================] - 0s 41us/step - loss: 0.2461 - acc: 0.8938 - val_loss: 0.2686 - val_acc: 0.9000\n",
      "Epoch 42/50\n",
      "320/320 [==============================] - 0s 46us/step - loss: 0.2440 - acc: 0.8875 - val_loss: 0.2267 - val_acc: 0.9500\n",
      "Epoch 43/50\n",
      "320/320 [==============================] - 0s 46us/step - loss: 0.2438 - acc: 0.8938 - val_loss: 0.2598 - val_acc: 0.9000\n",
      "Epoch 44/50\n",
      "320/320 [==============================] - 0s 49us/step - loss: 0.2411 - acc: 0.8969 - val_loss: 0.2657 - val_acc: 0.9000\n",
      "Epoch 45/50\n",
      "320/320 [==============================] - 0s 42us/step - loss: 0.2471 - acc: 0.8875 - val_loss: 0.2619 - val_acc: 0.9000\n",
      "Epoch 46/50\n",
      "320/320 [==============================] - 0s 39us/step - loss: 0.2420 - acc: 0.8969 - val_loss: 0.2559 - val_acc: 0.9000\n",
      "Epoch 47/50\n",
      "320/320 [==============================] - 0s 37us/step - loss: 0.2396 - acc: 0.8969 - val_loss: 0.2617 - val_acc: 0.9000\n",
      "Epoch 48/50\n",
      "320/320 [==============================] - 0s 45us/step - loss: 0.2406 - acc: 0.9000 - val_loss: 0.2339 - val_acc: 0.9125\n",
      "Epoch 49/50\n",
      "320/320 [==============================] - 0s 39us/step - loss: 0.2426 - acc: 0.8938 - val_loss: 0.2494 - val_acc: 0.9000\n",
      "Epoch 50/50\n",
      "320/320 [==============================] - 0s 43us/step - loss: 0.2409 - acc: 0.9000 - val_loss: 0.2486 - val_acc: 0.9000\n"
     ]
    },
    {
     "data": {
      "text/plain": [
       "<keras.callbacks.History at 0x7f7d5ed7ed30>"
      ]
     },
     "execution_count": 20,
     "metadata": {},
     "output_type": "execute_result"
    }
   ],
   "source": [
    "model.fit(data,target,epochs=50,validation_split=0.2)"
   ]
  }
 ],
 "metadata": {
  "kernelspec": {
   "display_name": "Python 3",
   "language": "python",
   "name": "python3"
  },
  "language_info": {
   "codemirror_mode": {
    "name": "ipython",
    "version": 3
   },
   "file_extension": ".py",
   "mimetype": "text/x-python",
   "name": "python",
   "nbconvert_exporter": "python",
   "pygments_lexer": "ipython3",
   "version": "3.6.7"
  }
 },
 "nbformat": 4,
 "nbformat_minor": 2
}
